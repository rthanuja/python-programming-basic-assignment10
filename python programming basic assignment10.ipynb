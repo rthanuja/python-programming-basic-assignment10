{
 "cells": [
  {
   "cell_type": "code",
   "execution_count": 7,
   "id": "dc793876",
   "metadata": {},
   "outputs": [
    {
     "name": "stdout",
     "output_type": "stream",
     "text": [
      "enter the numbers in list 1 5 6 8 1 4\n",
      "25\n"
     ]
    }
   ],
   "source": [
    "#1. Write a Python program to find sum of elements in list?\n",
    "l=list(map(int,input(\"enter the numbers in list \").split()))\n",
    "print(sum(l))"
   ]
  },
  {
   "cell_type": "code",
   "execution_count": 8,
   "id": "f065e480",
   "metadata": {},
   "outputs": [
    {
     "name": "stdout",
     "output_type": "stream",
     "text": [
      "enter the numbers in list 2 5 6 3 4\n",
      "multiplication of all the numbers in given list is 720\n"
     ]
    }
   ],
   "source": [
    "#2. Write a Python program to Multiply all numbers in the list?\n",
    "l=list(map(int,input(\"enter the numbers in list \").split()))\n",
    "m=1\n",
    "for i in l:\n",
    "    m*=i\n",
    "print(\"multiplication of all the numbers in given list is {}\".format(m))"
   ]
  },
  {
   "cell_type": "code",
   "execution_count": 9,
   "id": "eeda2ab9",
   "metadata": {},
   "outputs": [
    {
     "name": "stdout",
     "output_type": "stream",
     "text": [
      "enter the numbers in list 1 98 53 62 0 4\n",
      "the smallest number in the list is 0\n"
     ]
    }
   ],
   "source": [
    "#3. Write a Python program to find smallest number in a list?\n",
    "l=list(map(int,input(\"enter the numbers in list \").split()))\n",
    "print(\"the smallest number in the list is {}\".format(min(l)))\n"
   ]
  },
  {
   "cell_type": "code",
   "execution_count": 10,
   "id": "280fa381",
   "metadata": {},
   "outputs": [
    {
     "name": "stdout",
     "output_type": "stream",
     "text": [
      "enter the numbers in list 1 98 53 62 0 4\n",
      "the largest number in the list is 98\n"
     ]
    }
   ],
   "source": [
    "#4. Write a Python program to find largest number in a list?\n",
    "l=list(map(int,input(\"enter the numbers in list \").split()))\n",
    "print(\"the largest number in the list is {}\".format(max(l)))"
   ]
  },
  {
   "cell_type": "code",
   "execution_count": 11,
   "id": "efd13bdc",
   "metadata": {},
   "outputs": [
    {
     "name": "stdout",
     "output_type": "stream",
     "text": [
      "enter the numbers in list 1 98 53 62 0 4\n",
      "the second largest number in the list is 62\n"
     ]
    }
   ],
   "source": [
    "#5. Write a Python program to find second largest number in a list?\n",
    "l=list(map(int,input(\"enter the numbers in list \").split()))\n",
    "l.sort(reverse=True)\n",
    "print(\"the second largest number in the list is {}\".format(l[1]))"
   ]
  },
  {
   "cell_type": "code",
   "execution_count": 12,
   "id": "d2f9f152",
   "metadata": {},
   "outputs": [
    {
     "name": "stdout",
     "output_type": "stream",
     "text": [
      "enter the numbers in list 1 6 8 9 7 5 20 43 54\n",
      "no of largest elements required 4\n",
      "54\n",
      "43\n",
      "20\n",
      "9\n"
     ]
    }
   ],
   "source": [
    "#6. Write a Python program to find N largest elements from a list?\n",
    "l=list(map(int,input(\"enter the numbers in list \").split()))\n",
    "n=int(input(\"no of largest elements required \"))\n",
    "l.sort(reverse=True)\n",
    "for i in range(n):\n",
    "    print(l[i])\n"
   ]
  },
  {
   "cell_type": "code",
   "execution_count": 13,
   "id": "756a517f",
   "metadata": {},
   "outputs": [
    {
     "name": "stdout",
     "output_type": "stream",
     "text": [
      "enter the numbers in list 5 6 98 102 5 8 7 3 57\n",
      "6\n",
      "98\n",
      "102\n",
      "8\n"
     ]
    }
   ],
   "source": [
    "#7. Write a Python program to print even numbers in a list?\n",
    "l=list(map(int,input(\"enter the numbers in list \").split()))\n",
    "for i in l:\n",
    "    if i%2==0:\n",
    "        print(i)"
   ]
  },
  {
   "cell_type": "code",
   "execution_count": 14,
   "id": "6f741a39",
   "metadata": {},
   "outputs": [
    {
     "name": "stdout",
     "output_type": "stream",
     "text": [
      "enter the numbers in list 5 6 98 102 5 8 7 3 57\n",
      "5\n",
      "5\n",
      "7\n",
      "3\n",
      "57\n"
     ]
    }
   ],
   "source": [
    "#8. Write a Python program to print odd numbers in a List?\n",
    "l=list(map(int,input(\"enter the numbers in list \").split()))\n",
    "for i in l:\n",
    "    if i%2!=0:\n",
    "        print(i)\n"
   ]
  },
  {
   "cell_type": "code",
   "execution_count": 15,
   "id": "889eb9d7",
   "metadata": {},
   "outputs": [
    {
     "name": "stdout",
     "output_type": "stream",
     "text": [
      "the list after removing empty list is [1, 2, ['a', 'b'], (1, 2, 3), 'string']\n"
     ]
    }
   ],
   "source": [
    "#9. Write a Python program to Remove empty List from List?\n",
    "def emptylist(l):\n",
    "    d=[]\n",
    "    for i in range(len(l)-1,-1,-1):\n",
    "        if type(l[i])==list:\n",
    "            if len(l[i])==0:\n",
    "                l.pop(i)\n",
    "    print(\"the list after removing empty list is\",l)\n",
    "emptylist([1,2,['a','b'],[],[],(1,2,3),\"string\"])"
   ]
  },
  {
   "cell_type": "code",
   "execution_count": 16,
   "id": "5995c750",
   "metadata": {},
   "outputs": [
    {
     "name": "stdout",
     "output_type": "stream",
     "text": [
      "enter the numbers in list 5 6 98 102 5 8 7 3 57\n",
      "[5, 6, 98, 102, 5, 8, 7, 3, 57]\n"
     ]
    }
   ],
   "source": [
    "#10. Write a Python program to Cloning or Copying a list?\n",
    "l=list(map(int,input(\"enter the numbers in list \").split()))\n",
    "n=l[:]\n",
    "print(n)"
   ]
  },
  {
   "cell_type": "code",
   "execution_count": 17,
   "id": "8c64dba5",
   "metadata": {},
   "outputs": [
    {
     "name": "stdout",
     "output_type": "stream",
     "text": [
      "enter the numbers in list 10 2 10 24 3 4 61 61 24 6\n",
      "the count of occurences of 2 is 1\n",
      "the count of occurences of 3 is 1\n",
      "the count of occurences of 4 is 1\n",
      "the count of occurences of 6 is 1\n",
      "the count of occurences of 10 is 2\n",
      "the count of occurences of 24 is 2\n",
      "the count of occurences of 61 is 2\n"
     ]
    }
   ],
   "source": [
    "#11. Write a Python program to Count occurrences of an element in a list?\n",
    "l=list(map(int,input(\"enter the numbers in list \").split()))\n",
    "for i in set(l):\n",
    "    print(\"the count of occurences of {} is {}\".format(i,l.count(i)))"
   ]
  }
 ],
 "metadata": {
  "kernelspec": {
   "display_name": "Python 3 (ipykernel)",
   "language": "python",
   "name": "python3"
  },
  "language_info": {
   "codemirror_mode": {
    "name": "ipython",
    "version": 3
   },
   "file_extension": ".py",
   "mimetype": "text/x-python",
   "name": "python",
   "nbconvert_exporter": "python",
   "pygments_lexer": "ipython3",
   "version": "3.10.9"
  }
 },
 "nbformat": 4,
 "nbformat_minor": 5
}
